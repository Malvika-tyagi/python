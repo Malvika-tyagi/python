{
  "nbformat": 4,
  "nbformat_minor": 0,
  "metadata": {
    "colab": {
      "name": "python hw.ipynb",
      "provenance": [],
      "authorship_tag": "ABX9TyNcOFtKi68dRTx73KdHYyHE",
      "include_colab_link": true
    },
    "kernelspec": {
      "name": "python3",
      "display_name": "Python 3"
    }
  },
  "cells": [
    {
      "cell_type": "markdown",
      "metadata": {
        "id": "view-in-github",
        "colab_type": "text"
      },
      "source": [
        "<a href=\"https://colab.research.google.com/github/Malvika-tyagi/python/blob/python/python_hw.ipynb\" target=\"_parent\"><img src=\"https://colab.research.google.com/assets/colab-badge.svg\" alt=\"Open In Colab\"/></a>"
      ]
    },
    {
      "cell_type": "code",
      "metadata": {
        "id": "k2nphRK20qVR",
        "colab_type": "code",
        "colab": {}
      },
      "source": [
        ""
      ],
      "execution_count": null,
      "outputs": []
    },
    {
      "cell_type": "markdown",
      "metadata": {
        "id": "wkh3JuH60xfy",
        "colab_type": "text"
      },
      "source": [
        "\n",
        "Two Number Sum\n",
        "Write a function that takes in a non-empty array of distinct integers and an integer representing a target sum. If any two numbers in the input array sum up to the target sum, the function should return them in an array, in any order. If no two numbers sum up to the target sum, the function should return an empty array.\n",
        "\n",
        "Note that the target sum has to be obtained by summing two different integers in the array; you can't add a single integer to itself in order to obtain the target sum.\n",
        "\n",
        "You can assume that there will be at most one pair of numbers summing up to the target sum.\n",
        "\n",
        "sample input = [3, 5, -4, 8, 11, 1, -1, 6] targetsum = 10 sample output = [-1, 11]"
      ]
    },
    {
      "cell_type": "markdown",
      "metadata": {
        "id": "FmE38ShZ82qd",
        "colab_type": "text"
      },
      "source": [
        "Print the even number from the list a = [ 1,2,3,4,5,6,7,8]"
      ]
    },
    {
      "cell_type": "code",
      "metadata": {
        "id": "g-DYpUTGlfL9",
        "colab_type": "code",
        "colab": {}
      },
      "source": [
        "def twoNumberSum(a,targetSum):\n",
        "a=[3,5,-4,8,11,1,-1,6]\n",
        "left=0\n",
        "right=len(a)\n"
      ],
      "execution_count": null,
      "outputs": []
    },
    {
      "cell_type": "code",
      "metadata": {
        "id": "a6VsiycZ84Vy",
        "colab_type": "code",
        "colab": {
          "base_uri": "https://localhost:8080/",
          "height": 85
        },
        "outputId": "e7457eaa-b2f5-4e54-f509-d148ef4f2b8e"
      },
      "source": [
        "a =[1,2,3,4,5,6,7,8]\n",
        "for i in a:\n",
        "  if i % 2==0:\n",
        "    print(i);\n",
        "  "
      ],
      "execution_count": null,
      "outputs": [
        {
          "output_type": "stream",
          "text": [
            "2\n",
            "4\n",
            "6\n",
            "8\n"
          ],
          "name": "stdout"
        }
      ]
    },
    {
      "cell_type": "code",
      "metadata": {
        "id": "RK2_oUKu42yz",
        "colab_type": "code",
        "colab": {}
      },
      "source": [
        "\n"
      ],
      "execution_count": null,
      "outputs": []
    },
    {
      "cell_type": "markdown",
      "metadata": {
        "id": "_ap4vu6YA0gy",
        "colab_type": "text"
      },
      "source": [
        "B = [1,3,5,10,15,30,45,66] if a element is divided by 3 print foo, if a element is divided by 5 print bar if a element is divided by both 5&3 print foobar."
      ]
    },
    {
      "cell_type": "code",
      "metadata": {
        "id": "ugG4xfuNA9we",
        "colab_type": "code",
        "colab": {
          "base_uri": "https://localhost:8080/",
          "height": 136
        },
        "outputId": "22c5bdac-2b70-4031-bd2c-36aef45e19fb"
      },
      "source": [
        "B = [1,3,5,10,15,30,45,66]\n",
        "for i in B:\n",
        "  if i%3==0 & i%5==0:\n",
        "        print(\"foobar\")\n",
        "  elif i%5==0:\n",
        "        print(\"bar\")\n",
        "  elif i%3==0:\n",
        "        print(\"foo\")"
      ],
      "execution_count": null,
      "outputs": [
        {
          "output_type": "stream",
          "text": [
            "foobar\n",
            "bar\n",
            "bar\n",
            "foobar\n",
            "foobar\n",
            "foobar\n",
            "foobar\n"
          ],
          "name": "stdout"
        }
      ]
    },
    {
      "cell_type": "markdown",
      "metadata": {
        "id": "_nZgBEc6dzl5",
        "colab_type": "text"
      },
      "source": [
        "1 - Print odd number using List Compreshension. a = [ 1,2,3,4,5,6,7,8,9]"
      ]
    },
    {
      "cell_type": "code",
      "metadata": {
        "id": "UGXcpBMAeDgj",
        "colab_type": "code",
        "colab": {
          "base_uri": "https://localhost:8080/",
          "height": 102
        },
        "outputId": "b2d2b64c-548d-455b-8b15-43b362ab2371"
      },
      "source": [
        "a = [ 1,2,3,4,5,6,7,8,9]\n",
        "for i in a:\n",
        "  if i%2==0:\n",
        "    pass\n",
        "  else:\n",
        "    print(i); "
      ],
      "execution_count": null,
      "outputs": [
        {
          "output_type": "stream",
          "text": [
            "1\n",
            "3\n",
            "5\n",
            "7\n",
            "9\n"
          ],
          "name": "stdout"
        }
      ]
    },
    {
      "cell_type": "markdown",
      "metadata": {
        "id": "uRJUcDVbd2_U",
        "colab_type": "text"
      },
      "source": [
        "2 - Build a Calculator using Functions and classes in python. Functions can be Additon,subtraction,multiplication, division, modulus, power and call them using your own test Data."
      ]
    },
    {
      "cell_type": "code",
      "metadata": {
        "id": "PcnUIagyfKIr",
        "colab_type": "code",
        "colab": {
          "base_uri": "https://localhost:8080/",
          "height": 221
        },
        "outputId": "768ff88e-b3c3-41f0-cbad-cd04aadcd651"
      },
      "source": [
        "class calculator():\n",
        "  def __init__(self,a,b):\n",
        "    self.a = a\n",
        "    self.b = b\n",
        "\n",
        "  def add(self):\n",
        "    add1 = self.a + self.b\n",
        "    self.add1 = add1\n",
        "    return add1\n",
        "\n",
        "  def sub(self):\n",
        "    sub1 = self.a - self.b\n",
        "    self.sub1 = sub1\n",
        "    return sub1\n",
        "\n",
        "  def mul(self):\n",
        "    mul1 = self.a * self.b\n",
        "    self.mul1 = mul1\n",
        "    return mul1\n",
        "\n",
        "  def div(self):\n",
        "    div1 = self.a / self.b\n",
        "    self.div1 = div1\n",
        "    return div1\n",
        "\n",
        "  def mod(self):\n",
        "    mod1=self.a % self.b\n",
        "    self.mod1 = mod1\n",
        "    return mod1\n",
        "\n",
        "  def power(self):\n",
        "    power1=self.a ^ self.b\n",
        "    self.power1 = power1\n",
        "    return power1\n",
        "\n",
        "a=int(input(\"enter value of a\"))\n",
        "b=int(input(\"enter value of b\"))\n",
        "obj = calculator(a,b)\n",
        "print(\"this is calculator\")\n",
        "print(\"0.exit\")\n",
        "print(\"1. Addition\")\n",
        "print(\"2. Subtraction\")\n",
        "print(\"3. multiplication\")\n",
        "print(\"4. divison\")\n",
        "print(\"5. modulus\")\n",
        "print(\"6. power\")\n",
        "choice=int(input(\"enter your choice\"))\n",
        "if choice==1 :\n",
        "  print(\"answer=\",obj.add())\n",
        "elif choice==2 :\n",
        "  print(\"answer=\",obj.sub())\n",
        "elif choice==3:\n",
        "  print(\"answer=\",obj.mul())\n",
        "elif choice==4:\n",
        "  print(\"answer=\",obj.div())\n",
        "elif choice==5:\n",
        "  print(\"answer=\",obj.mod())\n",
        "elif choice==6:\n",
        "  print(\"answer=\",obj.power())\n",
        "elif choice==0:\n",
        "  exit()"
      ],
      "execution_count": null,
      "outputs": [
        {
          "output_type": "stream",
          "text": [
            "enter value of a10\n",
            "enter value of b10\n",
            "this is calculator\n",
            "0.exit\n",
            "1. Addition\n",
            "2. Subtraction\n",
            "3. multiplication\n",
            "4. divison\n",
            "5. modulus\n",
            "6. power\n",
            "enter your choice1\n",
            "answer= 20\n"
          ],
          "name": "stdout"
        }
      ]
    },
    {
      "cell_type": "markdown",
      "metadata": {
        "id": "os0ZbMI16cYw",
        "colab_type": "text"
      },
      "source": [
        ""
      ]
    },
    {
      "cell_type": "markdown",
      "metadata": {
        "id": "EnJ7V1Ew8llc",
        "colab_type": "text"
      },
      "source": [
        "Problem Context\n",
        "It's the finals of the T20 Cup! Bengaluru and Chennai, neighbours and fierce rivals, are\n",
        "fighting it out for the title. Bengaluru's star batsman Kirat is at the crease. Can he win it for\n",
        "Bengaluru? Write code to simulate the last 4 overs of the match.\n",
        "It's the last 4 overs of the match. Bengaluru needs 40 runs to win and with 4 wickets left. Each\n",
        "player has a different probability for scoring runs. Your coding problem is to simulate the match,\n",
        "ball by ball. The match simulation will require you to use a weighted random number generation\n",
        "based on probability to determine the runs scored per ball.\n",
        "Rules of the game:\n",
        "● Batsmen change strike end of every over. They also change strike when they score a\n",
        "1,3 or 5\n",
        "● When a player gets out, the new player comes in at the same position.\n",
        "● Assume only legal balls are bowled (no wides, no no-balls etc..). Therefore an over is\n",
        "always 6 balls.\n",
        "Sample Output\n",
        "Bengaluru won by 1 wicket and 2 balls remaining\n",
        "Kirat Boli - 12 (6 balls)\n",
        "NS Nodhi - 25 (11 balls)\n",
        "R Rumrah - 2* (3 balls)\n",
        "Shashi Henra - 2* (2 balls)\n",
        "Sample commentary\n",
        "4 overs left. 40 runs to win\n",
        "0.1 Kirat Boli scores 1 run\n",
        "0.2 NS Nodhi scores 4 runs\n",
        "0.3 NS Nodhi scores 1 run\n",
        "0.4 Kirat Boli scores 2 runs\n",
        "0.5 Kirat Boli scores 3 runs\n",
        "0.6 NS Nodhi scores 1 run\n",
        "3 overs left. 28 runs to win\n",
        "1.1 NS Nodhi scores 2 runs\n",
        "…\n",
        "....\n",
        "1\n"
      ]
    },
    {
      "cell_type": "code",
      "metadata": {
        "id": "HIAzeufX89Cn",
        "colab_type": "code",
        "colab": {}
      },
      "source": [
        "def matchstart(self):\n",
        "  \n",
        "\n"
      ],
      "execution_count": null,
      "outputs": []
    },
    {
      "cell_type": "markdown",
      "metadata": {
        "id": "hUeAkfRPEUc3",
        "colab_type": "text"
      },
      "source": [
        "Three Number Sum Write a function that takes in a non-empty array of distinct integers and an integer representing a target sum. If any three numbers in the input array sum up to the target sum, the function should return them in an array, in any order. If no two numbers sum up to the target sum, the function should return an empty array.\n",
        "\n",
        "Note that the target sum has to be obtained by summing two different integers in the array; you can't add a single integer to itself in order to obtain the target sum.\n"
      ]
    },
    {
      "cell_type": "code",
      "metadata": {
        "id": "KjbKrJqLFG7n",
        "colab_type": "code",
        "colab": {}
      },
      "source": [
        "a =[12, 3, 1, 2, -6, 5, -8, 6]\n",
        "def threeNumberSum(a,targetSum):\n",
        "  targetSum=0\n",
        "  for i in range(len(a)):\n",
        "    first = a[i]\n",
        "    print(a[i])\n",
        "    for j in range(i+1,len(a)):\n",
        "      second = a[j]\n",
        "      print(a[j])\n",
        "      for k in range(j+1,len(a)):\n",
        "        third = a[k]\n",
        "        print(a[k])\n",
        "        if first + second + third == targetSum:\n",
        "           return[a[i],a[j],a[k]]\n",
        "\n",
        "  return[]"
      ],
      "execution_count": null,
      "outputs": []
    },
    {
      "cell_type": "markdown",
      "metadata": {
        "id": "uYnIlap1y2BX",
        "colab_type": "text"
      },
      "source": [
        "\n",
        "# **Smallest Difference** \n",
        "Write a function that takes in two non-empty arrays of integers, finds the pair of numbers (one from each array) whose absolute difference is closest to zero, and returns an array containing these two numbers, with the number from the first array in the first position.\n",
        "\n",
        "You can assume that there will only be one pair of numbers with the smallest difference.\n",
        "\n",
        "Sample Input :-\n",
        "array1 = [-1, 5, 10, 20, 28, 3] array2 = [26, 134, 135, 15, 17]\n",
        "\n",
        "Sample Output [28,26]\n",
        "\n",
        "Hint 1 :- Instead of generating all possible pairs of numbers, try somehow only looking at pairs that you know could actually have the smallest difference. How can you accomplish this?\n",
        "\n",
        "Hint 2 :- Would it help if the two arrays were sorted? If the arrays were sorted and you were looking at a given pair of numbers, could you efficiently find the next pair of numbers to look at? What are the runtime implications of sorting the arrays?\n",
        "\n",
        "Hint 3 :- Start by sorting both arrays, as per Hint #2. Put a pointer at the beginning of both arrays and evaluate the absolute difference of the pointer-numbers. If the difference is equal to zero, then you've found the closest pair; otherwise, increment the pointer of the smaller of the two numbers to find a potentially better pair. Continue until you get a pair with a difference of zero or until one of the pointers gets out of range of its array.\n",
        "\n",
        "Time and Space Complexity :- O(nlog(n) + mlog(m)) time | O(1) space - where n is the length of the first input array and m is the length of the second input array\n",
        "\n"
      ]
    },
    {
      "cell_type": "code",
      "metadata": {
        "id": "0N5ucfigJjzO",
        "colab_type": "code",
        "colab": {}
      },
      "source": [
        "def smallestDifference(m,n):\n",
        "  m.sort()\n",
        "  n.sort()\n",
        "  pair={}\n",
        "  for i in range(len(m)-1):\n",
        "    for j in range(len(n)-1):\n",
        "      diff = m[i] - m[j]\n",
        "      if diff == 0:\n",
        "        return([m[i],n[j]])\n",
        "    while diff > 5:\n",
        "      flag = diff\n",
        "      if flag <= diff:\n",
        "        flag = diff \n",
        "      elif flag > diff:\n",
        "        flag=temp\n",
        "        temp=diff\n",
        "        diff=flag \n",
        "        return m[i],n[j]\n",
        "\n",
        "if __name__ == '__main__': \n",
        "    m = [1, 5, 10, 20, 28, 3]\n",
        "    n = [26, 134, 135, 15, 17] \n",
        "    smallestDifference(m,n)"
      ],
      "execution_count": null,
      "outputs": []
    },
    {
      "cell_type": "markdown",
      "metadata": {
        "id": "nIn7oynYzdVm",
        "colab_type": "text"
      },
      "source": [
        "# **Move Element to Last**\n",
        "You're given an array of integers and an integer. Write a function that moves all instances of that integer in the array to the end of the array and returns the array.\n",
        "\n",
        "The function should perform this in place (i.e., it should mutate the input array) and doesn't need to maintain the order of the other integers.\n",
        "\n",
        "Sample Input\n",
        "\n",
        "array= [2, 1, 2, 2, 2, 3, 4, 2]\n",
        "\n",
        "tomove = 2\n",
        "\n",
        "Sample Output [1, 3, 4, 2, 2, 2, 2, 2]\n",
        "\n",
        "You can solve this problem in linear time.O(N)\n",
        "\n",
        "Hint you can solve this problem without sorting the input array. Try setting two pointers at the start and end of the array, respectively, and progressively moving them inwards.\n",
        "\n",
        "Hint2 :-Following Hint #1, set two pointers at the start and end of the array, respectively. Move the right pointer inwards so long as it points to the integer to move, and move the left pointer inwards so long as it doesn't point to the integer to move. When both pointers aren't moving, swap their values in place. Repeat this process until the pointers pass each other.\n",
        "\n",
        "Time and Space complexity :- O(n) time | O(1) space - where n is the length of the array"
      ]
    },
    {
      "cell_type": "code",
      "metadata": {
        "id": "ZofwE36vzoa8",
        "colab_type": "code",
        "colab": {
          "base_uri": "https://localhost:8080/",
          "height": 316
        },
        "outputId": "1ef5a310-2fe0-4183-b99c-4d18f8ffa08e"
      },
      "source": [
        "def moveElement(a,element):\n",
        "  left= 0\n",
        "  right= a(len) - 1\n",
        "  while left == right:\n",
        "    if left == element & right == element:\n",
        "      right -= 1\n",
        "    elif left == element & right != element:\n",
        "      a[left],[right]=a[right],a[left]\n",
        "      right -= 1\n",
        "      left += 1\n",
        "    elif right==element & left!=element:\n",
        "      left += 1\n",
        "      right -= 1\n",
        "      pass\n",
        "if __name__ == '__main__':\n",
        "  a=[2, 1, 2, 2, 2, 3, 4, 2]\n",
        "  element=2\n",
        "  moveElement(a,element)"
      ],
      "execution_count": 5,
      "outputs": [
        {
          "output_type": "error",
          "ename": "TypeError",
          "evalue": "ignored",
          "traceback": [
            "\u001b[0;31m---------------------------------------------------------------------------\u001b[0m",
            "\u001b[0;31mTypeError\u001b[0m                                 Traceback (most recent call last)",
            "\u001b[0;32m<ipython-input-5-154e5d0d8fee>\u001b[0m in \u001b[0;36m<module>\u001b[0;34m()\u001b[0m\n\u001b[1;32m     16\u001b[0m   \u001b[0ma\u001b[0m\u001b[0;34m=\u001b[0m\u001b[0;34m[\u001b[0m\u001b[0;36m2\u001b[0m\u001b[0;34m,\u001b[0m \u001b[0;36m1\u001b[0m\u001b[0;34m,\u001b[0m \u001b[0;36m2\u001b[0m\u001b[0;34m,\u001b[0m \u001b[0;36m2\u001b[0m\u001b[0;34m,\u001b[0m \u001b[0;36m2\u001b[0m\u001b[0;34m,\u001b[0m \u001b[0;36m3\u001b[0m\u001b[0;34m,\u001b[0m \u001b[0;36m4\u001b[0m\u001b[0;34m,\u001b[0m \u001b[0;36m2\u001b[0m\u001b[0;34m]\u001b[0m\u001b[0;34m\u001b[0m\u001b[0;34m\u001b[0m\u001b[0m\n\u001b[1;32m     17\u001b[0m   \u001b[0melement\u001b[0m\u001b[0;34m=\u001b[0m\u001b[0;36m2\u001b[0m\u001b[0;34m\u001b[0m\u001b[0;34m\u001b[0m\u001b[0m\n\u001b[0;32m---> 18\u001b[0;31m   \u001b[0mmoveElement\u001b[0m\u001b[0;34m(\u001b[0m\u001b[0ma\u001b[0m\u001b[0;34m,\u001b[0m\u001b[0melement\u001b[0m\u001b[0;34m)\u001b[0m\u001b[0;34m\u001b[0m\u001b[0;34m\u001b[0m\u001b[0m\n\u001b[0m",
            "\u001b[0;32m<ipython-input-5-154e5d0d8fee>\u001b[0m in \u001b[0;36mmoveElement\u001b[0;34m(a, element)\u001b[0m\n\u001b[1;32m      1\u001b[0m \u001b[0;32mdef\u001b[0m \u001b[0mmoveElement\u001b[0m\u001b[0;34m(\u001b[0m\u001b[0ma\u001b[0m\u001b[0;34m,\u001b[0m\u001b[0melement\u001b[0m\u001b[0;34m)\u001b[0m\u001b[0;34m:\u001b[0m\u001b[0;34m\u001b[0m\u001b[0;34m\u001b[0m\u001b[0m\n\u001b[1;32m      2\u001b[0m   \u001b[0mleft\u001b[0m\u001b[0;34m=\u001b[0m \u001b[0;36m0\u001b[0m\u001b[0;34m\u001b[0m\u001b[0;34m\u001b[0m\u001b[0m\n\u001b[0;32m----> 3\u001b[0;31m   \u001b[0mright\u001b[0m\u001b[0;34m=\u001b[0m \u001b[0ma\u001b[0m\u001b[0;34m(\u001b[0m\u001b[0mlen\u001b[0m\u001b[0;34m)\u001b[0m \u001b[0;34m-\u001b[0m \u001b[0;36m1\u001b[0m\u001b[0;34m\u001b[0m\u001b[0;34m\u001b[0m\u001b[0m\n\u001b[0m\u001b[1;32m      4\u001b[0m   \u001b[0;32mwhile\u001b[0m \u001b[0mleft\u001b[0m \u001b[0;34m==\u001b[0m \u001b[0mright\u001b[0m\u001b[0;34m:\u001b[0m\u001b[0;34m\u001b[0m\u001b[0;34m\u001b[0m\u001b[0m\n\u001b[1;32m      5\u001b[0m     \u001b[0;32mif\u001b[0m \u001b[0mleft\u001b[0m \u001b[0;34m==\u001b[0m \u001b[0melement\u001b[0m \u001b[0;34m&\u001b[0m \u001b[0mright\u001b[0m \u001b[0;34m==\u001b[0m \u001b[0melement\u001b[0m\u001b[0;34m:\u001b[0m\u001b[0;34m\u001b[0m\u001b[0;34m\u001b[0m\u001b[0m\n",
            "\u001b[0;31mTypeError\u001b[0m: 'list' object is not callable"
          ]
        }
      ]
    },
    {
      "cell_type": "code",
      "metadata": {
        "id": "IbIE-1nl_fak",
        "colab_type": "code",
        "colab": {}
      },
      "source": [
        "\n"
      ],
      "execution_count": 1,
      "outputs": []
    }
  ]
}